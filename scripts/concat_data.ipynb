{
 "cells": [
  {
   "cell_type": "code",
   "execution_count": 9,
   "metadata": {},
   "outputs": [],
   "source": [
    "import pandas as pd\n",
    "\n",
    "def concat_csv_files(file1, file2, file3, output_file):\n",
    "    df1 = pd.read_csv(file1)\n",
    "    df2 = pd.read_csv(file2)\n",
    "    df3 = pd.read_csv(file3)\n",
    "    \n",
    "    df_final = pd.concat([df1, df2, df3], ignore_index=True)\n",
    "    \n",
    "    df_final.to_csv(output_file, index=False)\n",
    "    \n",
    "    print(f\"Fichier final enregistré sous : {output_file}\")"
   ]
  },
  {
   "cell_type": "code",
   "execution_count": 10,
   "metadata": {},
   "outputs": [
    {
     "name": "stdout",
     "output_type": "stream",
     "text": [
      "Fichier final enregistré sous : ../data/new_ref_data_final.csv\n"
     ]
    }
   ],
   "source": [
    "concat_csv_files(\"../data/new_ref_data.csv\", \"../data/new_ref_data1.csv\", \"../data/new_ref_data_clara.csv\", \"../data/new_ref_data_final.csv\")"
   ]
  },
  {
   "cell_type": "code",
   "execution_count": 11,
   "metadata": {},
   "outputs": [
    {
     "data": {
      "text/html": [
       "<div>\n",
       "<style scoped>\n",
       "    .dataframe tbody tr th:only-of-type {\n",
       "        vertical-align: middle;\n",
       "    }\n",
       "\n",
       "    .dataframe tbody tr th {\n",
       "        vertical-align: top;\n",
       "    }\n",
       "\n",
       "    .dataframe thead th {\n",
       "        text-align: right;\n",
       "    }\n",
       "</style>\n",
       "<table border=\"1\" class=\"dataframe\">\n",
       "  <thead>\n",
       "    <tr style=\"text-align: right;\">\n",
       "      <th></th>\n",
       "      <th>article</th>\n",
       "      <th>summary</th>\n",
       "    </tr>\n",
       "  </thead>\n",
       "  <tbody>\n",
       "    <tr>\n",
       "      <th>0</th>\n",
       "      <td>oh my God whoa holy [ __ ] [Music] holy [ __ ]...</td>\n",
       "      <td>In this enthusiastic reaction to the first epi...</td>\n",
       "    </tr>\n",
       "    <tr>\n",
       "      <th>1</th>\n",
       "      <td>She-Hulk Peter Pan and Wendy the rings of powe...</td>\n",
       "      <td>The video critiques modern female protagonists...</td>\n",
       "    </tr>\n",
       "    <tr>\n",
       "      <th>2</th>\n",
       "      <td>this is jinx pretty evil right well what if I ...</td>\n",
       "      <td>The video reexamines Jinx from Arcane, arguing...</td>\n",
       "    </tr>\n",
       "    <tr>\n",
       "      <th>3</th>\n",
       "      <td>imagine having to give up everything you ever ...</td>\n",
       "      <td>The relationship between Ekko and Jinx, known ...</td>\n",
       "    </tr>\n",
       "    <tr>\n",
       "      <th>4</th>\n",
       "      <td>ever since arcane came out there was one quest...</td>\n",
       "      <td>Arcane is not officially considered part of th...</td>\n",
       "    </tr>\n",
       "    <tr>\n",
       "      <th>...</th>\n",
       "      <td>...</td>\n",
       "      <td>...</td>\n",
       "    </tr>\n",
       "    <tr>\n",
       "      <th>1188</th>\n",
       "      <td>- [Narrator] Fortress of Kustrin, Brandenburg,...</td>\n",
       "      <td>Frederick the Great is one of the most dynamic...</td>\n",
       "    </tr>\n",
       "    <tr>\n",
       "      <th>1189</th>\n",
       "      <td>- [Narrator] King Louie and his family were no...</td>\n",
       "      <td>King Louie and his family were now in the Tuil...</td>\n",
       "    </tr>\n",
       "    <tr>\n",
       "      <th>1190</th>\n",
       "      <td>- This video was made possible by Honey. Keep ...</td>\n",
       "      <td>The video was made possible by Honey. Keep wat...</td>\n",
       "    </tr>\n",
       "    <tr>\n",
       "      <th>1191</th>\n",
       "      <td>- [Deeply Voice] This video was made possible ...</td>\n",
       "      <td>Russian Tsars had no time for pathetic ideas l...</td>\n",
       "    </tr>\n",
       "    <tr>\n",
       "      <th>1192</th>\n",
       "      <td>*Fancy music* 'Hooooooly smokes!' Christopher ...</td>\n",
       "      <td>Vikings War of Clans is a mobile game that was...</td>\n",
       "    </tr>\n",
       "  </tbody>\n",
       "</table>\n",
       "<p>1193 rows × 2 columns</p>\n",
       "</div>"
      ],
      "text/plain": [
       "                                                article  \\\n",
       "0     oh my God whoa holy [ __ ] [Music] holy [ __ ]...   \n",
       "1     She-Hulk Peter Pan and Wendy the rings of powe...   \n",
       "2     this is jinx pretty evil right well what if I ...   \n",
       "3     imagine having to give up everything you ever ...   \n",
       "4     ever since arcane came out there was one quest...   \n",
       "...                                                 ...   \n",
       "1188  - [Narrator] Fortress of Kustrin, Brandenburg,...   \n",
       "1189  - [Narrator] King Louie and his family were no...   \n",
       "1190  - This video was made possible by Honey. Keep ...   \n",
       "1191  - [Deeply Voice] This video was made possible ...   \n",
       "1192  *Fancy music* 'Hooooooly smokes!' Christopher ...   \n",
       "\n",
       "                                                summary  \n",
       "0     In this enthusiastic reaction to the first epi...  \n",
       "1     The video critiques modern female protagonists...  \n",
       "2     The video reexamines Jinx from Arcane, arguing...  \n",
       "3     The relationship between Ekko and Jinx, known ...  \n",
       "4     Arcane is not officially considered part of th...  \n",
       "...                                                 ...  \n",
       "1188  Frederick the Great is one of the most dynamic...  \n",
       "1189  King Louie and his family were now in the Tuil...  \n",
       "1190  The video was made possible by Honey. Keep wat...  \n",
       "1191  Russian Tsars had no time for pathetic ideas l...  \n",
       "1192  Vikings War of Clans is a mobile game that was...  \n",
       "\n",
       "[1193 rows x 2 columns]"
      ]
     },
     "execution_count": 11,
     "metadata": {},
     "output_type": "execute_result"
    }
   ],
   "source": [
    "final_csv = pd.read_csv(\"../data/new_ref_data_final.csv\")\n",
    "final_csv"
   ]
  }
 ],
 "metadata": {
  "kernelspec": {
   "display_name": "base",
   "language": "python",
   "name": "python3"
  },
  "language_info": {
   "codemirror_mode": {
    "name": "ipython",
    "version": 3
   },
   "file_extension": ".py",
   "mimetype": "text/x-python",
   "name": "python",
   "nbconvert_exporter": "python",
   "pygments_lexer": "ipython3",
   "version": "3.12.3"
  }
 },
 "nbformat": 4,
 "nbformat_minor": 2
}
